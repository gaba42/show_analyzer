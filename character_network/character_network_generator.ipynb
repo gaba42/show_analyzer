{
 "cells": [
  {
   "cell_type": "markdown",
   "metadata": {},
   "source": [
    "# Named Entity Recognition"
   ]
  },
  {
   "cell_type": "code",
   "execution_count": 1,
   "metadata": {},
   "outputs": [
    {
     "name": "stderr",
     "output_type": "stream",
     "text": [
      "C:\\Users\\User\\AppData\\Roaming\\Python\\Python38\\site-packages\\tqdm\\auto.py:21: TqdmWarning: IProgress not found. Please update jupyter and ipywidgets. See https://ipywidgets.readthedocs.io/en/stable/user_install.html\n",
      "  from .autonotebook import tqdm as notebook_tqdm\n"
     ]
    }
   ],
   "source": [
    "import spacy\n",
    "from nltk import sent_tokenize"
   ]
  },
  {
   "cell_type": "code",
   "execution_count": 2,
   "metadata": {},
   "outputs": [
    {
     "name": "stdout",
     "output_type": "stream",
     "text": [
      "Defaulting to user installation because normal site-packages is not writeable\n",
      "Collecting en-core-web-trf==3.7.3\n",
      "  Downloading https://github.com/explosion/spacy-models/releases/download/en_core_web_trf-3.7.3/en_core_web_trf-3.7.3-py3-none-any.whl (457.4 MB)\n",
      "     ---------------------------------------- 0.0/457.4 MB ? eta -:--:--\n",
      "     - ----------------------------------- 21.8/457.4 MB 105.9 MB/s eta 0:00:05\n",
      "     --- --------------------------------- 45.4/457.4 MB 111.1 MB/s eta 0:00:04\n",
      "     ----- ------------------------------- 68.7/457.4 MB 112.3 MB/s eta 0:00:04\n",
      "     ------- ----------------------------- 92.8/457.4 MB 111.8 MB/s eta 0:00:04\n",
      "     -------- --------------------------- 113.2/457.4 MB 109.6 MB/s eta 0:00:04\n",
      "     --------- --------------------------- 122.7/457.4 MB 99.2 MB/s eta 0:00:04\n",
      "     ----------- ------------------------- 143.7/457.4 MB 99.7 MB/s eta 0:00:04\n",
      "     ------------- ----------------------- 164.1/457.4 MB 99.8 MB/s eta 0:00:03\n",
      "     -------------- ---------------------- 183.5/457.4 MB 99.4 MB/s eta 0:00:03\n",
      "     ---------------- -------------------- 203.9/457.4 MB 99.5 MB/s eta 0:00:03\n",
      "     ----------------- ------------------ 227.3/457.4 MB 100.2 MB/s eta 0:00:03\n",
      "     ------------------- ---------------- 250.3/457.4 MB 100.7 MB/s eta 0:00:03\n",
      "     -------------------- ---------------- 251.9/457.4 MB 95.9 MB/s eta 0:00:03\n",
      "     --------------------- --------------- 264.0/457.4 MB 90.6 MB/s eta 0:00:03\n",
      "     ---------------------- -------------- 275.8/457.4 MB 87.3 MB/s eta 0:00:03\n",
      "     ---------------------- -------------- 282.1/457.4 MB 83.4 MB/s eta 0:00:03\n",
      "     ----------------------- ------------- 285.2/457.4 MB 79.4 MB/s eta 0:00:03\n",
      "     ----------------------- ------------- 291.8/457.4 MB 75.2 MB/s eta 0:00:03\n",
      "     ------------------------ ------------ 300.4/457.4 MB 72.6 MB/s eta 0:00:03\n",
      "     ------------------------ ------------ 307.8/457.4 MB 69.5 MB/s eta 0:00:03\n",
      "     ------------------------- ----------- 315.4/457.4 MB 67.3 MB/s eta 0:00:03\n",
      "     -------------------------- ---------- 323.2/457.4 MB 65.0 MB/s eta 0:00:03\n",
      "     -------------------------- ---------- 329.8/457.4 MB 62.3 MB/s eta 0:00:03\n",
      "     --------------------------- --------- 338.7/457.4 MB 60.5 MB/s eta 0:00:02\n",
      "     ---------------------------- -------- 347.6/457.4 MB 58.6 MB/s eta 0:00:02\n",
      "     ---------------------------- -------- 356.8/457.4 MB 57.0 MB/s eta 0:00:02\n",
      "     ----------------------------- ------- 365.2/457.4 MB 55.7 MB/s eta 0:00:02\n",
      "     ------------------------------ ------ 372.5/457.4 MB 54.2 MB/s eta 0:00:02\n",
      "     ------------------------------ ------ 382.7/457.4 MB 54.2 MB/s eta 0:00:02\n",
      "     ------------------------------- ----- 391.6/457.4 MB 52.7 MB/s eta 0:00:02\n",
      "     -------------------------------- ---- 402.1/457.4 MB 51.4 MB/s eta 0:00:02\n",
      "     --------------------------------- --- 410.5/457.4 MB 50.5 MB/s eta 0:00:01\n",
      "     --------------------------------- --- 419.4/457.4 MB 49.4 MB/s eta 0:00:01\n",
      "     ---------------------------------- -- 429.1/457.4 MB 48.3 MB/s eta 0:00:01\n",
      "     ----------------------------------- - 438.0/457.4 MB 46.9 MB/s eta 0:00:01\n",
      "     ------------------------------------  448.0/457.4 MB 46.3 MB/s eta 0:00:01\n",
      "     ------------------------------------  456.4/457.4 MB 45.5 MB/s eta 0:00:01\n",
      "     ------------------------------------  457.2/457.4 MB 45.2 MB/s eta 0:00:01\n",
      "     ------------------------------------  457.2/457.4 MB 45.2 MB/s eta 0:00:01\n",
      "     ------------------------------------  457.2/457.4 MB 45.2 MB/s eta 0:00:01\n",
      "     ------------------------------------  457.2/457.4 MB 45.2 MB/s eta 0:00:01\n",
      "     ------------------------------------  457.2/457.4 MB 45.2 MB/s eta 0:00:01\n",
      "     ------------------------------------  457.2/457.4 MB 45.2 MB/s eta 0:00:01\n",
      "     ------------------------------------  457.2/457.4 MB 45.2 MB/s eta 0:00:01\n",
      "     ------------------------------------  457.2/457.4 MB 45.2 MB/s eta 0:00:01\n",
      "     ------------------------------------  457.2/457.4 MB 45.2 MB/s eta 0:00:01\n",
      "     ------------------------------------  457.2/457.4 MB 45.2 MB/s eta 0:00:01\n",
      "     ------------------------------------  457.2/457.4 MB 45.2 MB/s eta 0:00:01\n",
      "     ------------------------------------  457.2/457.4 MB 45.2 MB/s eta 0:00:01\n",
      "     ------------------------------------  457.2/457.4 MB 45.2 MB/s eta 0:00:01\n",
      "     ------------------------------------  457.2/457.4 MB 45.2 MB/s eta 0:00:01\n",
      "     ------------------------------------  457.2/457.4 MB 45.2 MB/s eta 0:00:01\n",
      "     ------------------------------------  457.2/457.4 MB 45.2 MB/s eta 0:00:01\n",
      "     ------------------------------------  457.2/457.4 MB 45.2 MB/s eta 0:00:01\n",
      "     ------------------------------------  457.2/457.4 MB 45.2 MB/s eta 0:00:01\n",
      "     ------------------------------------  457.2/457.4 MB 45.2 MB/s eta 0:00:01\n",
      "     ------------------------------------  457.2/457.4 MB 45.2 MB/s eta 0:00:01\n",
      "     ------------------------------------  457.2/457.4 MB 45.2 MB/s eta 0:00:01\n",
      "     ------------------------------------  457.2/457.4 MB 45.2 MB/s eta 0:00:01\n",
      "     ------------------------------------  457.2/457.4 MB 45.2 MB/s eta 0:00:01\n",
      "     ------------------------------------  457.2/457.4 MB 45.2 MB/s eta 0:00:01\n",
      "     ------------------------------------  457.2/457.4 MB 45.2 MB/s eta 0:00:01\n",
      "     ------------------------------------  457.2/457.4 MB 45.2 MB/s eta 0:00:01\n",
      "     ------------------------------------  457.2/457.4 MB 45.2 MB/s eta 0:00:01\n",
      "     ------------------------------------  457.2/457.4 MB 45.2 MB/s eta 0:00:01\n",
      "     ------------------------------------  457.2/457.4 MB 45.2 MB/s eta 0:00:01\n",
      "     ------------------------------------- 457.4/457.4 MB 21.6 MB/s eta 0:00:00\n",
      "Requirement already satisfied: spacy<3.8.0,>=3.7.2 in d:\\programfiles\\anaconda3\\envs\\study_38\\lib\\site-packages (from en-core-web-trf==3.7.3) (3.7.6)\n",
      "Requirement already satisfied: spacy-curated-transformers<0.3.0,>=0.2.0 in c:\\users\\user\\appdata\\roaming\\python\\python38\\site-packages (from en-core-web-trf==3.7.3) (0.2.2)\n",
      "Requirement already satisfied: spacy-legacy<3.1.0,>=3.0.11 in d:\\programfiles\\anaconda3\\envs\\study_38\\lib\\site-packages (from spacy<3.8.0,>=3.7.2->en-core-web-trf==3.7.3) (3.0.12)\n",
      "Requirement already satisfied: spacy-loggers<2.0.0,>=1.0.0 in d:\\programfiles\\anaconda3\\envs\\study_38\\lib\\site-packages (from spacy<3.8.0,>=3.7.2->en-core-web-trf==3.7.3) (1.0.5)\n",
      "Requirement already satisfied: murmurhash<1.1.0,>=0.28.0 in d:\\programfiles\\anaconda3\\envs\\study_38\\lib\\site-packages (from spacy<3.8.0,>=3.7.2->en-core-web-trf==3.7.3) (1.0.10)\n",
      "Requirement already satisfied: cymem<2.1.0,>=2.0.2 in d:\\programfiles\\anaconda3\\envs\\study_38\\lib\\site-packages (from spacy<3.8.0,>=3.7.2->en-core-web-trf==3.7.3) (2.0.8)\n",
      "Requirement already satisfied: preshed<3.1.0,>=3.0.2 in d:\\programfiles\\anaconda3\\envs\\study_38\\lib\\site-packages (from spacy<3.8.0,>=3.7.2->en-core-web-trf==3.7.3) (3.0.9)\n",
      "Requirement already satisfied: thinc<8.3.0,>=8.2.2 in d:\\programfiles\\anaconda3\\envs\\study_38\\lib\\site-packages (from spacy<3.8.0,>=3.7.2->en-core-web-trf==3.7.3) (8.2.5)\n",
      "Requirement already satisfied: wasabi<1.2.0,>=0.9.1 in d:\\programfiles\\anaconda3\\envs\\study_38\\lib\\site-packages (from spacy<3.8.0,>=3.7.2->en-core-web-trf==3.7.3) (1.1.2)\n",
      "Requirement already satisfied: srsly<3.0.0,>=2.4.3 in d:\\programfiles\\anaconda3\\envs\\study_38\\lib\\site-packages (from spacy<3.8.0,>=3.7.2->en-core-web-trf==3.7.3) (2.4.8)\n",
      "Requirement already satisfied: catalogue<2.1.0,>=2.0.6 in d:\\programfiles\\anaconda3\\envs\\study_38\\lib\\site-packages (from spacy<3.8.0,>=3.7.2->en-core-web-trf==3.7.3) (2.0.10)\n",
      "Requirement already satisfied: weasel<0.5.0,>=0.1.0 in d:\\programfiles\\anaconda3\\envs\\study_38\\lib\\site-packages (from spacy<3.8.0,>=3.7.2->en-core-web-trf==3.7.3) (0.4.1)\n",
      "Requirement already satisfied: typer<1.0.0,>=0.3.0 in c:\\users\\user\\appdata\\roaming\\python\\python38\\site-packages (from spacy<3.8.0,>=3.7.2->en-core-web-trf==3.7.3) (0.15.1)\n",
      "Requirement already satisfied: tqdm<5.0.0,>=4.38.0 in c:\\users\\user\\appdata\\roaming\\python\\python38\\site-packages (from spacy<3.8.0,>=3.7.2->en-core-web-trf==3.7.3) (4.67.1)\n",
      "Requirement already satisfied: requests<3.0.0,>=2.13.0 in d:\\programfiles\\anaconda3\\envs\\study_38\\lib\\site-packages (from spacy<3.8.0,>=3.7.2->en-core-web-trf==3.7.3) (2.32.3)\n",
      "Requirement already satisfied: pydantic!=1.8,!=1.8.1,<3.0.0,>=1.7.4 in c:\\users\\user\\appdata\\roaming\\python\\python38\\site-packages (from spacy<3.8.0,>=3.7.2->en-core-web-trf==3.7.3) (2.10.6)\n",
      "Requirement already satisfied: jinja2 in c:\\users\\user\\appdata\\roaming\\python\\python38\\site-packages (from spacy<3.8.0,>=3.7.2->en-core-web-trf==3.7.3) (3.1.5)\n",
      "Requirement already satisfied: setuptools in c:\\users\\user\\appdata\\roaming\\python\\python38\\site-packages (from spacy<3.8.0,>=3.7.2->en-core-web-trf==3.7.3) (75.3.0)\n",
      "Requirement already satisfied: packaging>=20.0 in d:\\programfiles\\anaconda3\\envs\\study_38\\lib\\site-packages (from spacy<3.8.0,>=3.7.2->en-core-web-trf==3.7.3) (24.1)\n",
      "Requirement already satisfied: langcodes<4.0.0,>=3.2.0 in d:\\programfiles\\anaconda3\\envs\\study_38\\lib\\site-packages (from spacy<3.8.0,>=3.7.2->en-core-web-trf==3.7.3) (3.4.1)\n",
      "Requirement already satisfied: numpy>=1.15.0 in d:\\programfiles\\anaconda3\\envs\\study_38\\lib\\site-packages (from spacy<3.8.0,>=3.7.2->en-core-web-trf==3.7.3) (1.24.3)\n",
      "Requirement already satisfied: curated-transformers<0.2.0,>=0.1.0 in c:\\users\\user\\appdata\\roaming\\python\\python38\\site-packages (from spacy-curated-transformers<0.3.0,>=0.2.0->en-core-web-trf==3.7.3) (0.1.1)\n",
      "Requirement already satisfied: curated-tokenizers<0.1.0,>=0.0.9 in c:\\users\\user\\appdata\\roaming\\python\\python38\\site-packages (from spacy-curated-transformers<0.3.0,>=0.2.0->en-core-web-trf==3.7.3) (0.0.9)\n",
      "Requirement already satisfied: torch>=1.12.0 in d:\\programfiles\\anaconda3\\envs\\study_38\\lib\\site-packages (from spacy-curated-transformers<0.3.0,>=0.2.0->en-core-web-trf==3.7.3) (1.12.1)\n",
      "Requirement already satisfied: regex>=2022 in c:\\users\\user\\appdata\\roaming\\python\\python38\\site-packages (from curated-tokenizers<0.1.0,>=0.0.9->spacy-curated-transformers<0.3.0,>=0.2.0->en-core-web-trf==3.7.3) (2024.11.6)\n",
      "Requirement already satisfied: language-data>=1.2 in d:\\programfiles\\anaconda3\\envs\\study_38\\lib\\site-packages (from langcodes<4.0.0,>=3.2.0->spacy<3.8.0,>=3.7.2->en-core-web-trf==3.7.3) (1.2.0)\n",
      "Requirement already satisfied: annotated-types>=0.6.0 in c:\\users\\user\\appdata\\roaming\\python\\python38\\site-packages (from pydantic!=1.8,!=1.8.1,<3.0.0,>=1.7.4->spacy<3.8.0,>=3.7.2->en-core-web-trf==3.7.3) (0.7.0)\n",
      "Requirement already satisfied: pydantic-core==2.27.2 in c:\\users\\user\\appdata\\roaming\\python\\python38\\site-packages (from pydantic!=1.8,!=1.8.1,<3.0.0,>=1.7.4->spacy<3.8.0,>=3.7.2->en-core-web-trf==3.7.3) (2.27.2)\n",
      "Requirement already satisfied: typing-extensions>=4.12.2 in d:\\programfiles\\anaconda3\\envs\\study_38\\lib\\site-packages (from pydantic!=1.8,!=1.8.1,<3.0.0,>=1.7.4->spacy<3.8.0,>=3.7.2->en-core-web-trf==3.7.3) (4.12.2)\n",
      "Requirement already satisfied: charset-normalizer<4,>=2 in d:\\programfiles\\anaconda3\\envs\\study_38\\lib\\site-packages (from requests<3.0.0,>=2.13.0->spacy<3.8.0,>=3.7.2->en-core-web-trf==3.7.3) (3.4.0)\n",
      "Requirement already satisfied: idna<4,>=2.5 in d:\\programfiles\\anaconda3\\envs\\study_38\\lib\\site-packages (from requests<3.0.0,>=2.13.0->spacy<3.8.0,>=3.7.2->en-core-web-trf==3.7.3) (3.10)\n",
      "Requirement already satisfied: urllib3<3,>=1.21.1 in d:\\programfiles\\anaconda3\\envs\\study_38\\lib\\site-packages (from requests<3.0.0,>=2.13.0->spacy<3.8.0,>=3.7.2->en-core-web-trf==3.7.3) (2.2.3)\n",
      "Requirement already satisfied: certifi>=2017.4.17 in d:\\programfiles\\anaconda3\\envs\\study_38\\lib\\site-packages (from requests<3.0.0,>=2.13.0->spacy<3.8.0,>=3.7.2->en-core-web-trf==3.7.3) (2024.8.30)\n",
      "Requirement already satisfied: blis<0.8.0,>=0.7.8 in d:\\programfiles\\anaconda3\\envs\\study_38\\lib\\site-packages (from thinc<8.3.0,>=8.2.2->spacy<3.8.0,>=3.7.2->en-core-web-trf==3.7.3) (0.7.10)\n",
      "Requirement already satisfied: confection<1.0.0,>=0.0.1 in d:\\programfiles\\anaconda3\\envs\\study_38\\lib\\site-packages (from thinc<8.3.0,>=8.2.2->spacy<3.8.0,>=3.7.2->en-core-web-trf==3.7.3) (0.1.4)\n",
      "Requirement already satisfied: colorama in c:\\users\\user\\appdata\\roaming\\python\\python38\\site-packages (from tqdm<5.0.0,>=4.38.0->spacy<3.8.0,>=3.7.2->en-core-web-trf==3.7.3) (0.4.6)\n",
      "Requirement already satisfied: click>=8.0.0 in c:\\users\\user\\appdata\\roaming\\python\\python38\\site-packages (from typer<1.0.0,>=0.3.0->spacy<3.8.0,>=3.7.2->en-core-web-trf==3.7.3) (8.1.8)\n",
      "Requirement already satisfied: shellingham>=1.3.0 in c:\\users\\user\\appdata\\roaming\\python\\python38\\site-packages (from typer<1.0.0,>=0.3.0->spacy<3.8.0,>=3.7.2->en-core-web-trf==3.7.3) (1.5.4)\n",
      "Requirement already satisfied: rich>=10.11.0 in c:\\users\\user\\appdata\\roaming\\python\\python38\\site-packages (from typer<1.0.0,>=0.3.0->spacy<3.8.0,>=3.7.2->en-core-web-trf==3.7.3) (13.9.4)\n",
      "Requirement already satisfied: cloudpathlib<1.0.0,>=0.7.0 in d:\\programfiles\\anaconda3\\envs\\study_38\\lib\\site-packages (from weasel<0.5.0,>=0.1.0->spacy<3.8.0,>=3.7.2->en-core-web-trf==3.7.3) (0.20.0)\n",
      "Requirement already satisfied: smart-open<8.0.0,>=5.2.1 in d:\\programfiles\\anaconda3\\envs\\study_38\\lib\\site-packages (from weasel<0.5.0,>=0.1.0->spacy<3.8.0,>=3.7.2->en-core-web-trf==3.7.3) (7.0.5)\n",
      "Requirement already satisfied: MarkupSafe>=2.0 in d:\\programfiles\\anaconda3\\envs\\study_38\\lib\\site-packages (from jinja2->spacy<3.8.0,>=3.7.2->en-core-web-trf==3.7.3) (2.1.5)\n",
      "Requirement already satisfied: marisa-trie>=0.7.7 in d:\\programfiles\\anaconda3\\envs\\study_38\\lib\\site-packages (from language-data>=1.2->langcodes<4.0.0,>=3.2.0->spacy<3.8.0,>=3.7.2->en-core-web-trf==3.7.3) (1.2.0)\n",
      "Requirement already satisfied: markdown-it-py>=2.2.0 in c:\\users\\user\\appdata\\roaming\\python\\python38\\site-packages (from rich>=10.11.0->typer<1.0.0,>=0.3.0->spacy<3.8.0,>=3.7.2->en-core-web-trf==3.7.3) (3.0.0)\n",
      "Requirement already satisfied: pygments<3.0.0,>=2.13.0 in d:\\programfiles\\anaconda3\\envs\\study_38\\lib\\site-packages (from rich>=10.11.0->typer<1.0.0,>=0.3.0->spacy<3.8.0,>=3.7.2->en-core-web-trf==3.7.3) (2.15.1)\n",
      "Requirement already satisfied: wrapt in d:\\programfiles\\anaconda3\\envs\\study_38\\lib\\site-packages (from smart-open<8.0.0,>=5.2.1->weasel<0.5.0,>=0.1.0->spacy<3.8.0,>=3.7.2->en-core-web-trf==3.7.3) (1.16.0)\n",
      "Requirement already satisfied: mdurl~=0.1 in c:\\users\\user\\appdata\\roaming\\python\\python38\\site-packages (from markdown-it-py>=2.2.0->rich>=10.11.0->typer<1.0.0,>=0.3.0->spacy<3.8.0,>=3.7.2->en-core-web-trf==3.7.3) (0.1.2)\n",
      "\u001b[38;5;2m✔ Download and installation successful\u001b[0m\n",
      "You can now load the package via spacy.load('en_core_web_trf')\n"
     ]
    }
   ],
   "source": [
    "!python -m spacy download en_core_web_trf"
   ]
  },
  {
   "cell_type": "markdown",
   "metadata": {},
   "source": [
    "# Load model"
   ]
  },
  {
   "cell_type": "code",
   "execution_count": 2,
   "metadata": {},
   "outputs": [],
   "source": [
    "def load_model():\n",
    "    nlp = spacy.load('en_core_web_trf')\n",
    "    return nlp\n"
   ]
  },
  {
   "cell_type": "code",
   "execution_count": 3,
   "metadata": {},
   "outputs": [],
   "source": [
    "nlp_model = load_model()"
   ]
  },
  {
   "cell_type": "markdown",
   "metadata": {},
   "source": [
    "# Load Dataset"
   ]
  },
  {
   "cell_type": "code",
   "execution_count": null,
   "metadata": {},
   "outputs": [],
   "source": []
  }
 ],
 "metadata": {
  "kernelspec": {
   "display_name": "study_38",
   "language": "python",
   "name": "python3"
  },
  "language_info": {
   "codemirror_mode": {
    "name": "ipython",
    "version": 3
   },
   "file_extension": ".py",
   "mimetype": "text/x-python",
   "name": "python",
   "nbconvert_exporter": "python",
   "pygments_lexer": "ipython3",
   "version": "3.8.20"
  }
 },
 "nbformat": 4,
 "nbformat_minor": 2
}
