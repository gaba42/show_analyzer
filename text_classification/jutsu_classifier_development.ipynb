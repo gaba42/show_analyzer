{
 "cells": [
  {
   "cell_type": "markdown",
   "metadata": {},
   "source": [
    "# Load Dataset"
   ]
  },
  {
   "cell_type": "code",
   "execution_count": 1,
   "metadata": {},
   "outputs": [],
   "source": [
    "import pandas as pd"
   ]
  },
  {
   "cell_type": "code",
   "execution_count": 2,
   "metadata": {},
   "outputs": [
    {
     "data": {
      "text/html": [
       "<div>\n",
       "<style scoped>\n",
       "    .dataframe tbody tr th:only-of-type {\n",
       "        vertical-align: middle;\n",
       "    }\n",
       "\n",
       "    .dataframe tbody tr th {\n",
       "        vertical-align: top;\n",
       "    }\n",
       "\n",
       "    .dataframe thead th {\n",
       "        text-align: right;\n",
       "    }\n",
       "</style>\n",
       "<table border=\"1\" class=\"dataframe\">\n",
       "  <thead>\n",
       "    <tr style=\"text-align: right;\">\n",
       "      <th></th>\n",
       "      <th>jutsu_name</th>\n",
       "      <th>jutsu_type</th>\n",
       "      <th>jutsu_description</th>\n",
       "    </tr>\n",
       "  </thead>\n",
       "  <tbody>\n",
       "    <tr>\n",
       "      <th>0</th>\n",
       "      <td>10 Hit Combo</td>\n",
       "      <td>Taijutsu</td>\n",
       "      <td>Lars punches the opponent before striking them...</td>\n",
       "    </tr>\n",
       "    <tr>\n",
       "      <th>1</th>\n",
       "      <td>Agonizing Thorn Technique (Simply Put a Kanchō)</td>\n",
       "      <td>Taijutsu, Ninjutsu</td>\n",
       "      <td>After punching and kicking the opponent a few ...</td>\n",
       "    </tr>\n",
       "    <tr>\n",
       "      <th>2</th>\n",
       "      <td>Alder</td>\n",
       "      <td>Kekkei Genkai, Taijutsu</td>\n",
       "      <td>Kimimaro rushes at his opponent, and using the...</td>\n",
       "    </tr>\n",
       "    <tr>\n",
       "      <th>3</th>\n",
       "      <td>Afterimage Clone</td>\n",
       "      <td>Ninjutsu, Clone Techniques</td>\n",
       "      <td>Shisui uses the Body Flicker Technique, and mo...</td>\n",
       "    </tr>\n",
       "    <tr>\n",
       "      <th>4</th>\n",
       "      <td>Afterglow</td>\n",
       "      <td>Kenjutsu</td>\n",
       "      <td>Sasuke dashes toward his opponent and quickly ...</td>\n",
       "    </tr>\n",
       "  </tbody>\n",
       "</table>\n",
       "</div>"
      ],
      "text/plain": [
       "                                        jutsu_name  \\\n",
       "0                                     10 Hit Combo   \n",
       "1  Agonizing Thorn Technique (Simply Put a Kanchō)   \n",
       "2                                            Alder   \n",
       "3                                 Afterimage Clone   \n",
       "4                                        Afterglow   \n",
       "\n",
       "                   jutsu_type  \\\n",
       "0                    Taijutsu   \n",
       "1          Taijutsu, Ninjutsu   \n",
       "2     Kekkei Genkai, Taijutsu   \n",
       "3  Ninjutsu, Clone Techniques   \n",
       "4                    Kenjutsu   \n",
       "\n",
       "                                   jutsu_description  \n",
       "0  Lars punches the opponent before striking them...  \n",
       "1  After punching and kicking the opponent a few ...  \n",
       "2  Kimimaro rushes at his opponent, and using the...  \n",
       "3  Shisui uses the Body Flicker Technique, and mo...  \n",
       "4  Sasuke dashes toward his opponent and quickly ...  "
      ]
     },
     "execution_count": 2,
     "metadata": {},
     "output_type": "execute_result"
    }
   ],
   "source": [
    "data_path = \"../data/jutsus.jsonl\"\n",
    "df = pd.read_json(data_path, lines=True)\n",
    "df.head()\n"
   ]
  },
  {
   "cell_type": "markdown",
   "metadata": {},
   "source": [
    "- ninjutsu, genjutsu, taijutsu\n",
    "- 3가지만 원함\n",
    "- 나머지 제거 처리"
   ]
  },
  {
   "cell_type": "code",
   "execution_count": 16,
   "metadata": {},
   "outputs": [],
   "source": [
    "def simplify_jutsu(jutsu):\n",
    "    if \"Kenjutsu\" in jutsu:\n",
    "        return \"Kenjutsu\"\n",
    "    if \"Genjutsu\" in jutsu:\n",
    "        return \"Kenjutsu\"\n",
    "    if \"Ninjutsu\" in jutsu:\n",
    "        return \"Ninjutsu\"\n",
    "    if \"Taijutsu\" in jutsu:\n",
    "        return \"Taijutsu\""
   ]
  },
  {
   "cell_type": "code",
   "execution_count": 17,
   "metadata": {},
   "outputs": [],
   "source": [
    "df['jutsu_type_simplified'] = df['jutsu_type'].apply(simplify_jutsu)"
   ]
  },
  {
   "cell_type": "code",
   "execution_count": 18,
   "metadata": {},
   "outputs": [
    {
     "data": {
      "text/html": [
       "<div>\n",
       "<style scoped>\n",
       "    .dataframe tbody tr th:only-of-type {\n",
       "        vertical-align: middle;\n",
       "    }\n",
       "\n",
       "    .dataframe tbody tr th {\n",
       "        vertical-align: top;\n",
       "    }\n",
       "\n",
       "    .dataframe thead th {\n",
       "        text-align: right;\n",
       "    }\n",
       "</style>\n",
       "<table border=\"1\" class=\"dataframe\">\n",
       "  <thead>\n",
       "    <tr style=\"text-align: right;\">\n",
       "      <th></th>\n",
       "      <th>jutsu_name</th>\n",
       "      <th>jutsu_type</th>\n",
       "      <th>jutsu_description</th>\n",
       "      <th>jutsu_type_simplified</th>\n",
       "    </tr>\n",
       "  </thead>\n",
       "  <tbody>\n",
       "    <tr>\n",
       "      <th>0</th>\n",
       "      <td>10 Hit Combo</td>\n",
       "      <td>Taijutsu</td>\n",
       "      <td>Lars punches the opponent before striking them...</td>\n",
       "      <td>Taijutsu</td>\n",
       "    </tr>\n",
       "    <tr>\n",
       "      <th>1</th>\n",
       "      <td>Agonizing Thorn Technique (Simply Put a Kanchō)</td>\n",
       "      <td>Taijutsu, Ninjutsu</td>\n",
       "      <td>After punching and kicking the opponent a few ...</td>\n",
       "      <td>Ninjutsu</td>\n",
       "    </tr>\n",
       "    <tr>\n",
       "      <th>2</th>\n",
       "      <td>Alder</td>\n",
       "      <td>Kekkei Genkai, Taijutsu</td>\n",
       "      <td>Kimimaro rushes at his opponent, and using the...</td>\n",
       "      <td>Taijutsu</td>\n",
       "    </tr>\n",
       "    <tr>\n",
       "      <th>3</th>\n",
       "      <td>Afterimage Clone</td>\n",
       "      <td>Ninjutsu, Clone Techniques</td>\n",
       "      <td>Shisui uses the Body Flicker Technique, and mo...</td>\n",
       "      <td>Ninjutsu</td>\n",
       "    </tr>\n",
       "    <tr>\n",
       "      <th>4</th>\n",
       "      <td>Afterglow</td>\n",
       "      <td>Kenjutsu</td>\n",
       "      <td>Sasuke dashes toward his opponent and quickly ...</td>\n",
       "      <td>Kenjutsu</td>\n",
       "    </tr>\n",
       "  </tbody>\n",
       "</table>\n",
       "</div>"
      ],
      "text/plain": [
       "                                        jutsu_name  \\\n",
       "0                                     10 Hit Combo   \n",
       "1  Agonizing Thorn Technique (Simply Put a Kanchō)   \n",
       "2                                            Alder   \n",
       "3                                 Afterimage Clone   \n",
       "4                                        Afterglow   \n",
       "\n",
       "                   jutsu_type  \\\n",
       "0                    Taijutsu   \n",
       "1          Taijutsu, Ninjutsu   \n",
       "2     Kekkei Genkai, Taijutsu   \n",
       "3  Ninjutsu, Clone Techniques   \n",
       "4                    Kenjutsu   \n",
       "\n",
       "                                   jutsu_description jutsu_type_simplified  \n",
       "0  Lars punches the opponent before striking them...              Taijutsu  \n",
       "1  After punching and kicking the opponent a few ...              Ninjutsu  \n",
       "2  Kimimaro rushes at his opponent, and using the...              Taijutsu  \n",
       "3  Shisui uses the Body Flicker Technique, and mo...              Ninjutsu  \n",
       "4  Sasuke dashes toward his opponent and quickly ...              Kenjutsu  "
      ]
     },
     "execution_count": 18,
     "metadata": {},
     "output_type": "execute_result"
    }
   ],
   "source": [
    "df.head()"
   ]
  },
  {
   "cell_type": "code",
   "execution_count": 19,
   "metadata": {},
   "outputs": [
    {
     "data": {
      "text/plain": [
       "jutsu_type_simplified\n",
       "Ninjutsu    2168\n",
       "Taijutsu     367\n",
       "Kenjutsu     276\n",
       "Name: count, dtype: int64"
      ]
     },
     "execution_count": 19,
     "metadata": {},
     "output_type": "execute_result"
    }
   ],
   "source": [
    "df['jutsu_type_simplified'].value_counts()"
   ]
  },
  {
   "cell_type": "code",
   "execution_count": 20,
   "metadata": {},
   "outputs": [],
   "source": [
    "df['text'] = df['jutsu_name'] + \". \" + df['jutsu_description']\n",
    "df['jutsus'] = df['jutsu_type_simplified']\n",
    "df = df[['text', 'jutsus']]\n",
    "df = df.dropna()"
   ]
  },
  {
   "cell_type": "code",
   "execution_count": 21,
   "metadata": {},
   "outputs": [
    {
     "data": {
      "text/html": [
       "<div>\n",
       "<style scoped>\n",
       "    .dataframe tbody tr th:only-of-type {\n",
       "        vertical-align: middle;\n",
       "    }\n",
       "\n",
       "    .dataframe tbody tr th {\n",
       "        vertical-align: top;\n",
       "    }\n",
       "\n",
       "    .dataframe thead th {\n",
       "        text-align: right;\n",
       "    }\n",
       "</style>\n",
       "<table border=\"1\" class=\"dataframe\">\n",
       "  <thead>\n",
       "    <tr style=\"text-align: right;\">\n",
       "      <th></th>\n",
       "      <th>text</th>\n",
       "      <th>jutsus</th>\n",
       "    </tr>\n",
       "  </thead>\n",
       "  <tbody>\n",
       "    <tr>\n",
       "      <th>0</th>\n",
       "      <td>10 Hit Combo. Lars punches the opponent before...</td>\n",
       "      <td>Taijutsu</td>\n",
       "    </tr>\n",
       "    <tr>\n",
       "      <th>1</th>\n",
       "      <td>Agonizing Thorn Technique (Simply Put a Kanchō...</td>\n",
       "      <td>Ninjutsu</td>\n",
       "    </tr>\n",
       "    <tr>\n",
       "      <th>2</th>\n",
       "      <td>Alder. Kimimaro rushes at his opponent, and us...</td>\n",
       "      <td>Taijutsu</td>\n",
       "    </tr>\n",
       "    <tr>\n",
       "      <th>3</th>\n",
       "      <td>Afterimage Clone. Shisui uses the Body Flicker...</td>\n",
       "      <td>Ninjutsu</td>\n",
       "    </tr>\n",
       "    <tr>\n",
       "      <th>4</th>\n",
       "      <td>Afterglow. Sasuke dashes toward his opponent a...</td>\n",
       "      <td>Kenjutsu</td>\n",
       "    </tr>\n",
       "  </tbody>\n",
       "</table>\n",
       "</div>"
      ],
      "text/plain": [
       "                                                text    jutsus\n",
       "0  10 Hit Combo. Lars punches the opponent before...  Taijutsu\n",
       "1  Agonizing Thorn Technique (Simply Put a Kanchō...  Ninjutsu\n",
       "2  Alder. Kimimaro rushes at his opponent, and us...  Taijutsu\n",
       "3  Afterimage Clone. Shisui uses the Body Flicker...  Ninjutsu\n",
       "4  Afterglow. Sasuke dashes toward his opponent a...  Kenjutsu"
      ]
     },
     "execution_count": 21,
     "metadata": {},
     "output_type": "execute_result"
    }
   ],
   "source": [
    "df.head()"
   ]
  },
  {
   "cell_type": "code",
   "execution_count": 23,
   "metadata": {},
   "outputs": [],
   "source": [
    "from bs4 import BeautifulSoup\n",
    "\n",
    "\n",
    "class Cleaner():\n",
    "    def __init__(self):\n",
    "        pass\n",
    "\n",
    "    def put_line_breaks(self, text):\n",
    "        return text.replace(\"<\\p>\", \"<\\p>\\n\")\n",
    "    \n",
    "    def remove_html_tags(self, text):\n",
    "        clean_text = BeautifulSoup(text, \"lxml\").text\n",
    "        return clean_text\n",
    "\n",
    "    def clean(self, text):\n",
    "        text = self.put_line_breaks(text)\n",
    "        text = self.remove_html_tags(text)\n",
    "        text = text.strip()\n",
    "        return text"
   ]
  },
  {
   "cell_type": "code",
   "execution_count": null,
   "metadata": {},
   "outputs": [],
   "source": []
  }
 ],
 "metadata": {
  "kernelspec": {
   "display_name": "study_38",
   "language": "python",
   "name": "python3"
  },
  "language_info": {
   "codemirror_mode": {
    "name": "ipython",
    "version": 3
   },
   "file_extension": ".py",
   "mimetype": "text/x-python",
   "name": "python",
   "nbconvert_exporter": "python",
   "pygments_lexer": "ipython3",
   "version": "3.8.20"
  }
 },
 "nbformat": 4,
 "nbformat_minor": 2
}
